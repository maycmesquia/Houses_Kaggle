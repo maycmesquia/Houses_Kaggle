{
  "nbformat": 4,
  "nbformat_minor": 0,
  "metadata": {
    "colab": {
      "name": "Houses_vf.ipynb",
      "provenance": [],
      "mount_file_id": "1CHVkAaak1FMoOI7Aycy_4gTg-rakB_Q7",
      "authorship_tag": "ABX9TyOL61eij2bpbYqFV+djGdQW",
      "include_colab_link": true
    },
    "kernelspec": {
      "name": "python3",
      "display_name": "Python 3"
    },
    "language_info": {
      "name": "python"
    }
  },
  "cells": [
    {
      "cell_type": "markdown",
      "metadata": {
        "id": "view-in-github",
        "colab_type": "text"
      },
      "source": [
        "<a href=\"https://colab.research.google.com/github/maycmesquia/Houses_Kaggle/blob/main/Houses_vf.ipynb\" target=\"_parent\"><img src=\"https://colab.research.google.com/assets/colab-badge.svg\" alt=\"Open In Colab\"/></a>"
      ]
    },
    {
      "cell_type": "markdown",
      "source": [
        "# House Prices - Advanced Regression Techniques\n",
        "\n",
        "Link: https://www.kaggle.com/c/house-prices-advanced-regression-techniques/data?select=data_description.txt\n",
        "\n",
        "**Meta**\n",
        "\n",
        "É sua função prever o preço de venda de cada casa. Para cada Id no conjunto de teste, você deve prever o valor da variável SalePrice. \n",
        "\n",
        "**Métrica**\n",
        "\n",
        "Os envios são avaliados com base no erro quadrático médio (RMSE)  entre o logaritmo do valor previsto e o logaritmo do preço de venda observado. (Tirar logs significa que erros na previsão de casas caras e casas baratas afetarão o resultado igualmente.)"
      ],
      "metadata": {
        "id": "b_rMkVEjizFD"
      }
    },
    {
      "cell_type": "markdown",
      "source": [
        "## Preparação de Ambiente\n"
      ],
      "metadata": {
        "id": "W8p4wQ_wjbEG"
      }
    },
    {
      "cell_type": "code",
      "execution_count": 1,
      "metadata": {
        "colab": {
          "base_uri": "https://localhost:8080/"
        },
        "id": "d72RpQCVix49",
        "outputId": "46c37302-40b8-448c-cbd5-90c83e184480"
      },
      "outputs": [
        {
          "output_type": "stream",
          "name": "stderr",
          "text": [
            "/usr/local/lib/python3.7/dist-packages/statsmodels/tools/_testing.py:19: FutureWarning: pandas.util.testing is deprecated. Use the functions in the public API at pandas.testing instead.\n",
            "  import pandas.util.testing as tm\n"
          ]
        }
      ],
      "source": [
        "import pandas as pd\n",
        "import numpy as np\n",
        "import matplotlib.pyplot as plt\n",
        "import seaborn as sns\n",
        "import statsmodels.api as sm\n",
        "\n",
        "from sklearn.linear_model import LinearRegression\n",
        "from sklearn.metrics import mean_squared_error\n",
        "from scipy.stats import pearsonr, normaltest, spearmanr"
      ]
    },
    {
      "cell_type": "markdown",
      "source": [
        "## Importando Dados\n",
        "\n",
        "Importando as bases de dados de Treino e Teste"
      ],
      "metadata": {
        "id": "y1HGdG4qjxZq"
      }
    },
    {
      "cell_type": "code",
      "source": [
        "end = '/content/drive/MyDrive/Colab Notebooks/Kaggle - Competicoes/House Prices - Advanced Regression Techniques/'\n",
        "train = pd.read_csv(end + 'train.csv')\n",
        "test = pd.read_csv(end + 'test.csv')\n",
        "\n",
        "train.shape, test.shape"
      ],
      "metadata": {
        "colab": {
          "base_uri": "https://localhost:8080/"
        },
        "id": "S3WXyxW6jnIe",
        "outputId": "651de378-841b-48b2-ab5b-7b0e9f5a7efe"
      },
      "execution_count": 9,
      "outputs": [
        {
          "output_type": "execute_result",
          "data": {
            "text/plain": [
              "((1460, 81), (1459, 80))"
            ]
          },
          "metadata": {},
          "execution_count": 9
        }
      ]
    },
    {
      "cell_type": "markdown",
      "source": [
        "Iremos classificar as variaveis em Qualitativas e Quantitativas."
      ],
      "metadata": {
        "id": "wg63czCHksZa"
      }
    },
    {
      "cell_type": "code",
      "source": [
        "variaveis_quantitativas = []\n",
        "variaveis_qualitativas = []\n",
        "\n",
        "for coluna in train.columns:\n",
        "    if train[coluna].dtype == 'int64' or train[coluna].dtype == 'float64':\n",
        "        variaveis_quantitativas.append(coluna)\n",
        "    else:\n",
        "        variaveis_qualitativas.append(coluna)\n",
        "\n",
        "variaveis_quantitativas.remove('SalePrice')\n",
        "variaveis_quantitativas.remove('Id')\n",
        "\n",
        "print(variaveis_quantitativas)\n",
        "print(variaveis_qualitativas)"
      ],
      "metadata": {
        "colab": {
          "base_uri": "https://localhost:8080/"
        },
        "id": "Advwn7d0kDyQ",
        "outputId": "55b8a30a-3e43-4e71-fb71-d4a633f784cb"
      },
      "execution_count": 10,
      "outputs": [
        {
          "output_type": "stream",
          "name": "stdout",
          "text": [
            "['MSSubClass', 'LotFrontage', 'LotArea', 'OverallQual', 'OverallCond', 'YearBuilt', 'YearRemodAdd', 'MasVnrArea', 'BsmtFinSF1', 'BsmtFinSF2', 'BsmtUnfSF', 'TotalBsmtSF', '1stFlrSF', '2ndFlrSF', 'LowQualFinSF', 'GrLivArea', 'BsmtFullBath', 'BsmtHalfBath', 'FullBath', 'HalfBath', 'BedroomAbvGr', 'KitchenAbvGr', 'TotRmsAbvGrd', 'Fireplaces', 'GarageYrBlt', 'GarageCars', 'GarageArea', 'WoodDeckSF', 'OpenPorchSF', 'EnclosedPorch', '3SsnPorch', 'ScreenPorch', 'PoolArea', 'MiscVal', 'MoSold', 'YrSold']\n",
            "['MSZoning', 'Street', 'Alley', 'LotShape', 'LandContour', 'Utilities', 'LotConfig', 'LandSlope', 'Neighborhood', 'Condition1', 'Condition2', 'BldgType', 'HouseStyle', 'RoofStyle', 'RoofMatl', 'Exterior1st', 'Exterior2nd', 'MasVnrType', 'ExterQual', 'ExterCond', 'Foundation', 'BsmtQual', 'BsmtCond', 'BsmtExposure', 'BsmtFinType1', 'BsmtFinType2', 'Heating', 'HeatingQC', 'CentralAir', 'Electrical', 'KitchenQual', 'Functional', 'FireplaceQu', 'GarageType', 'GarageFinish', 'GarageQual', 'GarageCond', 'PavedDrive', 'PoolQC', 'Fence', 'MiscFeature', 'SaleType', 'SaleCondition']\n"
          ]
        }
      ]
    },
    {
      "cell_type": "markdown",
      "source": [
        "## Limpeza dos Dados\n",
        "\n",
        "Iremos substituir os valores vazios (NaN) das variaveis Quantitativas pelas medianas das amostras\n",
        "\n",
        "Já as variaveis Qualitativas iremos substituir pela moda da amostra."
      ],
      "metadata": {
        "id": "d2vVKrafk2CX"
      }
    },
    {
      "cell_type": "code",
      "source": [
        "for variavel in variaveis_quantitativas:\n",
        "    if train[variavel].isna().sum() > 0:\n",
        "        train[variavel].fillna(train[variavel].median, inplace=True)\n",
        "\n",
        "for variavel in variaveis_qualitativas:\n",
        "    if train[variavel].isna().sum() > 0:\n",
        "        train[variavel].fillna(train[variavel].mode, inplace=True)"
      ],
      "metadata": {
        "id": "IFSXFmGJlOYN"
      },
      "execution_count": 11,
      "outputs": []
    },
    {
      "cell_type": "markdown",
      "source": [
        "## Verificar Correlação das variaveis\n",
        "\n",
        "Iremos utilizar o teste de correlação de Spearman, este metodo tem os seguintes pressupostos:\n",
        "\n",
        "- Uma ou mais variaveis não apresentar distribuição Normal,\n",
        "- Uma das variaveis pode ou não ser Qualitativas Ordinais\n",
        "\n",
        "Caso nenhum dos pressupostos existir devemos utilizar Pearson, distribuição Normal!"
      ],
      "metadata": {
        "id": "3Ay7QTLVnPv0"
      }
    },
    {
      "cell_type": "code",
      "source": [
        ""
      ],
      "metadata": {
        "id": "pAaJzpvKo2gs"
      },
      "execution_count": null,
      "outputs": []
    }
  ]
}